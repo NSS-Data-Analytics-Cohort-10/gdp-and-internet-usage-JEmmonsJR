{
 "cells": [
  {
   "cell_type": "markdown",
   "id": "1f966b61",
   "metadata": {},
   "source": [
    "3. Import the required pachages with their cutomary aliases as follows:"
   ]
  },
  {
   "cell_type": "code",
   "execution_count": null,
   "id": "e44d3dbc",
   "metadata": {},
   "outputs": [],
   "source": [
    "import pandas as pd\n",
    "import numpy as np\n",
    "import matplotlib.pyplot as plt\n",
    "import seaborn as sns"
   ]
  },
  {
   "cell_type": "markdown",
   "id": "f63a727f",
   "metadata": {},
   "source": [
    "4. Using the pandas read_csv() method, read the GDP dataset into your notebook as a DataFrame called gdp_df. Take a look at the first few and last few rows to familiarize yourself with what is contained in this dataset."
   ]
  },
  {
   "cell_type": "code",
   "execution_count": null,
   "id": "74a0eeda",
   "metadata": {},
   "outputs": [],
   "source": [
    "gdp_df = pd.read_csv(\"../data/gdp_percapita.csv\")"
   ]
  },
  {
   "cell_type": "code",
   "execution_count": null,
   "id": "e2d382a5",
   "metadata": {},
   "outputs": [],
   "source": [
    "print(gdp_df.head(5), \"\\n\", gdp_df.tail(5))"
   ]
  },
  {
   "cell_type": "markdown",
   "id": "6a32a9d7",
   "metadata": {},
   "source": [
    "5.How many rows and columns are in gdp_df? What are the data types of each column?"
   ]
  },
  {
   "cell_type": "code",
   "execution_count": null,
   "id": "06149b82",
   "metadata": {},
   "outputs": [],
   "source": [
    "print(\"Number of Rows: \", len(gdp_df.axes[0]), \"\\nNumber of Columns: \", len(gdp_df.axes[1]), \"\\n\", gdp_df.dtypes)"
   ]
  },
  {
   "cell_type": "markdown",
   "id": "5dc28ffc",
   "metadata": {},
   "source": [
    "6. Drop the Value Footnotes column and rename the remaining three to 'Country', 'Year', and 'GDP_Per_Capita'."
   ]
  },
  {
   "cell_type": "code",
   "execution_count": null,
   "id": "e925184c",
   "metadata": {},
   "outputs": [],
   "source": [
    "gdp_df = gdp_df.drop(columns = ['Value Footnotes'])"
   ]
  },
  {
   "cell_type": "code",
   "execution_count": null,
   "id": "28d51314",
   "metadata": {},
   "outputs": [],
   "source": [
    "gdp_df = gdp_df.rename(columns={\"Country or Area\": \"Country\", \"Year\": \"Year\", \"Value\": \"GDP_Per_Capita\"})"
   ]
  },
  {
   "cell_type": "markdown",
   "id": "3c5bdc29",
   "metadata": {},
   "source": [
    "7. How many countries have data for all years? Which countries are missing many years of data? Look at the number of observations per year. What do you notice?"
   ]
  },
  {
   "cell_type": "code",
   "execution_count": null,
   "id": "4967415f",
   "metadata": {},
   "outputs": [],
   "source": [
    "y = len(pd.unique(gdp_df['Year'])) #This is how many years there are.\n",
    "\n",
    "cnty = gdp_df['Country'].value_counts() #This will make a new df with the count of each country\n",
    "\n",
    "count = 0 #This for loop goes through the new df and sees if a countries count equal how many years there were\n",
    "for i in cnty:\n",
    "    if i == y:\n",
    "        count = count + 1\n",
    "    else: count = count + 0\n",
    "print(count, \"countries have data every year\\n\")\n",
    "\n",
    "gdp_df['Country'].value_counts().tail(40)"
   ]
  },
  {
   "cell_type": "markdown",
   "id": "12efb9e2",
   "metadata": {},
   "source": [
    "34 countries were created after 1990, 2 countries are not in the UN, this means 11 countries either left or cease to exist"
   ]
  },
  {
   "cell_type": "markdown",
   "id": "d5773020",
   "metadata": {},
   "source": [
    "8. In this question, you're going to create some plots to show the distribution of GDP per capita for the year 2020. Go to the Python Graph Gallery (https://www.python-graph-gallery.com/) and look at the different types of plots under the Distribution section. Create a histogram, a density plot, a boxplot, and a violin plot."
   ]
  },
  {
   "cell_type": "code",
   "execution_count": null,
   "id": "d718d832",
   "metadata": {},
   "outputs": [],
   "source": [
    "##This df is a subset of the gdp_df where the year is 2020.\n",
    "grph_df = gdp_df[gdp_df[\"Year\"] == 2020]\n",
    "grph_df = grph_df.drop(columns = ['Year'])"
   ]
  },
  {
   "cell_type": "code",
   "execution_count": null,
   "id": "3f0bb8e7",
   "metadata": {},
   "outputs": [],
   "source": [
    "##This is the histogram code\n",
    "grph_df.hist()\n",
    "plt.show"
   ]
  },
  {
   "cell_type": "code",
   "execution_count": null,
   "id": "94d689f9",
   "metadata": {},
   "outputs": [],
   "source": [
    "##This the density plot code\n",
    "sns.kdeplot(data=grph_df)"
   ]
  },
  {
   "cell_type": "code",
   "execution_count": null,
   "id": "d26af6c3",
   "metadata": {},
   "outputs": [],
   "source": [
    "##This is the boxplot code\n",
    "sns.boxplot(data=grph_df)"
   ]
  },
  {
   "cell_type": "code",
   "execution_count": null,
   "id": "3e6f7d8b",
   "metadata": {},
   "outputs": [],
   "source": [
    "##This is the violin plot code\n",
    "sns.violinplot(data=grph_df)"
   ]
  },
  {
   "cell_type": "markdown",
   "id": "203b333f",
   "metadata": {},
   "source": [
    "What do you notice when you look at these plots?\n",
    "-Most countries have a GDP Per Capita below 20k\n",
    "How do the plots compare and what information can you get out of one type that you can't necessarily get out of the others?\n",
    "-The box plot and violin plot shows median and quartiles"
   ]
  },
  {
   "cell_type": "markdown",
   "id": "9405b82b",
   "metadata": {},
   "source": [
    "9. What was the median GDP per capita value in 2020?"
   ]
  },
  {
   "cell_type": "code",
   "execution_count": null,
   "id": "3ad0915e",
   "metadata": {},
   "outputs": [],
   "source": [
    "##This will print the median GDP per capita in 2020\n",
    "print(\"$\", \"{0:,.2f}\".format(np.median(grph_df[\"GDP_Per_Capita\"]), 2), \"is the median GDP per capita\")"
   ]
  },
  {
   "cell_type": "markdown",
   "id": "020a0728",
   "metadata": {},
   "source": [
    "10. For this question, you're going to create some visualizations to compare GDP per capita values for the years 1990, 2000, 2010, and 2020. Start by subsetting your data to just these 4 years into a new DataFrame named gdp_decades. Using this, create the following 4 plots:\n",
    "\n",
    "    A boxplot\\\n",
    "    A barplot (check out the Barplot with Seaborn section: https://www.python-graph-gallery.com/barplot/#Seaborn) \\\n",
    "    A scatterplot\\\n",
    "    A scatterplot with a trend line overlaid (see this regplot example: https://www.python-graph-gallery.com/42-custom-linear-regression-fit-seaborn) \\\n",
    "    Comment on what you observe has happened to GDP values over time and the relative strengths and weaknesses of each type of plot.\n",
    "\n"
   ]
  },
  {
   "cell_type": "code",
   "execution_count": null,
   "id": "3aa190c8",
   "metadata": {},
   "outputs": [],
   "source": [
    "##This code will subset the df to just the years 1990, 2000, 2010, 2020\n",
    "gdp_decades = gdp_df[(gdp_df[\"Year\"] == 1990) | (gdp_df[\"Year\"] == 2000) | (gdp_df[\"Year\"] == 2010) | (gdp_df[\"Year\"] == 2020)]"
   ]
  },
  {
   "cell_type": "code",
   "execution_count": null,
   "id": "9f4bf30c",
   "metadata": {},
   "outputs": [],
   "source": [
    "##This is the boxplot code\n",
    "sns.boxplot(data = gdp_decades, x = gdp_decades[\"Year\"], y = gdp_decades[\"GDP_Per_Capita\"])"
   ]
  },
  {
   "cell_type": "code",
   "execution_count": null,
   "id": "00345402",
   "metadata": {},
   "outputs": [],
   "source": [
    "##This is the barplot code\n",
    "sns.barplot(data = gdp_decades, x = gdp_decades[\"Year\"], y = gdp_decades[\"GDP_Per_Capita\"])"
   ]
  },
  {
   "cell_type": "code",
   "execution_count": null,
   "id": "a77da120",
   "metadata": {},
   "outputs": [],
   "source": [
    "#This the the scatterplot w/o trendline code\n",
    "plt.scatter(x = gdp_decades[\"Year\"], y = gdp_decades[\"GDP_Per_Capita\"])\n",
    "plt.show()"
   ]
  },
  {
   "cell_type": "code",
   "execution_count": null,
   "id": "dd456797",
   "metadata": {},
   "outputs": [],
   "source": [
    "##This is the scatterplot w/ trendline code\n",
    "sns.regplot(x=gdp_decades[\"Year\"], y=gdp_decades[\"GDP_Per_Capita\"], line_kws={\"color\":\"r\",\"alpha\":0.7,\"lw\":5})\n",
    "plt.show()"
   ]
  },
  {
   "cell_type": "markdown",
   "id": "ec785545",
   "metadata": {},
   "source": [
    "11.Which country was the first to have a GDP per capita greater than $100,000?"
   ]
  },
  {
   "cell_type": "code",
   "execution_count": null,
   "id": "85bd6e89",
   "metadata": {},
   "outputs": [],
   "source": [
    "##First I will filter the df by GDPpC over 100k\n",
    "foo_df = gdp_df[gdp_df[\"GDP_Per_Capita\"] >= 100000]\n",
    "##Secondly I will filter based on the min year in foo_df\n",
    "bar_df = foo_df[foo_df[\"Year\"] == min(foo_df[\"Year\"])]\n",
    "##Lastly I will print the first country to have a GDPpC over 100k\n",
    "print(\"The following is the first country to have a GDP per capita greater than $100,000:\\n\", bar_df)"
   ]
  },
  {
   "cell_type": "markdown",
   "id": "7ff8b3b9",
   "metadata": {},
   "source": [
    "12. Which country had the highest GDP per capita in 2020? Create a plot showing how this country's GDP per capita has changed over the timespan of the dataset."
   ]
  },
  {
   "cell_type": "code",
   "execution_count": null,
   "id": "0d4000a9",
   "metadata": {},
   "outputs": [],
   "source": [
    "##Since I already have a df for 2020 I will filter out the highest GDPpC\n",
    "mx_df = grph_df[grph_df[\"GDP_Per_Capita\"] == max(grph_df[\"GDP_Per_Capita\"])]\n",
    "print(\"The following is the country with the highest GDP per capita for the year 2020:\\n\", mx_df)"
   ]
  },
  {
   "cell_type": "code",
   "execution_count": null,
   "id": "fdf7eb4d",
   "metadata": {},
   "outputs": [],
   "source": [
    "##This will plot the change in GDPpC for Luxembourg\n",
    "ln_df = gdp_df[gdp_df[\"Country\"] == \"Luxembourg\"]\n",
    "plt.plot(ln_df[\"Year\"], ln_df[\"GDP_Per_Capita\"])\n",
    "plt.show()"
   ]
  },
  {
   "cell_type": "markdown",
   "id": "1793de5f",
   "metadata": {},
   "source": [
    "13. Which country had the lowest GDP per capita in 2020? Create a plot showing how this country's GDP per capita has changed over the timespan of the dataset. Bonus question: Is it true in general that coutries had a higher GDP per capita in 2020 than in 1990? Which countries had lower GDP per capita in 2020 than in 1990?"
   ]
  },
  {
   "cell_type": "code",
   "execution_count": null,
   "id": "20775049",
   "metadata": {},
   "outputs": [],
   "source": [
    "mn_df = grph_df[grph_df[\"GDP_Per_Capita\"] == min(grph_df[\"GDP_Per_Capita\"])]\n",
    "print(\"The following is the country with the lowest GDP per capita for the year 2020:\\n\", mn_df)"
   ]
  },
  {
   "cell_type": "code",
   "execution_count": null,
   "id": "b21fbfb9",
   "metadata": {},
   "outputs": [],
   "source": [
    "##This will plot the change in GDPpC for Luxembourg\n",
    "lne_df = gdp_df[gdp_df[\"Country\"] == \"Burundi\"]\n",
    "plt.plot(lne_df[\"Year\"], lne_df[\"GDP_Per_Capita\"])\n",
    "plt.show()"
   ]
  },
  {
   "cell_type": "markdown",
   "id": "934e516f",
   "metadata": {},
   "source": [
    "14. Read in the internet use dataset into a DataFrame named internet_df. You will likely get errors when doing this. Check the arguments for the read_csv function to find ones that can help correct the errors (https://pandas.pydata.org/docs/reference/api/pandas.read_csv.html) Once you are able to read it in, take per a look at the top and bottom few rows to make sure that it has been read in correctly. Also, check the datatypes of the columns."
   ]
  },
  {
   "cell_type": "code",
   "execution_count": null,
   "id": "cd8632d9",
   "metadata": {},
   "outputs": [],
   "source": [
    "internet_df = pd.read_csv(\"../data/internet_use.csv\")"
   ]
  },
  {
   "cell_type": "code",
   "execution_count": null,
   "id": "c09b005e",
   "metadata": {},
   "outputs": [],
   "source": [
    "print(internet_df.head(5), \"\\n\", internet_df.tail(5))\n",
    "print(internet_df.dtypes)"
   ]
  },
  {
   "cell_type": "markdown",
   "id": "7117cd71",
   "metadata": {},
   "source": [
    "15. Drop the Value Footnotes column and rename the remaining three to 'Country', 'Year', and 'Internet_Users_Pct'."
   ]
  },
  {
   "cell_type": "code",
   "execution_count": null,
   "id": "1fbdc3bb",
   "metadata": {},
   "outputs": [],
   "source": [
    "internet_df = internet_df.drop(columns = ['Value Footnotes'])"
   ]
  },
  {
   "cell_type": "code",
   "execution_count": null,
   "id": "ff44b741",
   "metadata": {},
   "outputs": [],
   "source": [
    "internet_df = internet_df.rename(columns={\"Country or Area\": \"Country\", \"Year\": \"Year\", \"Value\": \"GDP_Per_Capita\"})"
   ]
  },
  {
   "cell_type": "markdown",
   "id": "fbb8cc3d",
   "metadata": {},
   "source": [
    "16. Look at the number of observations in this dataset per year. What do you notice?"
   ]
  },
  {
   "cell_type": "code",
   "execution_count": null,
   "id": "ecc399d0",
   "metadata": {},
   "outputs": [],
   "source": [
    "##This will print hoe many times each year is in the df\n",
    "print(internet_df['Year'].value_counts())"
   ]
  },
  {
   "cell_type": "code",
   "execution_count": null,
   "id": "6f849b05",
   "metadata": {},
   "outputs": [],
   "source": []
  }
 ],
 "metadata": {
  "kernelspec": {
   "display_name": "Python 3 (ipykernel)",
   "language": "python",
   "name": "python3"
  },
  "language_info": {
   "codemirror_mode": {
    "name": "ipython",
    "version": 3
   },
   "file_extension": ".py",
   "mimetype": "text/x-python",
   "name": "python",
   "nbconvert_exporter": "python",
   "pygments_lexer": "ipython3",
   "version": "3.11.5"
  }
 },
 "nbformat": 4,
 "nbformat_minor": 5
}
