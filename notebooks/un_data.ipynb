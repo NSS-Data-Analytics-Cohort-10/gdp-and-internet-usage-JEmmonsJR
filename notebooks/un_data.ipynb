{
 "cells": [
  {
   "cell_type": "markdown",
   "id": "1f966b61",
   "metadata": {},
   "source": [
    "3. Import the required pachages with their cutomary aliases as follows:"
   ]
  },
  {
   "cell_type": "code",
   "execution_count": null,
   "id": "e44d3dbc",
   "metadata": {},
   "outputs": [],
   "source": [
    "import pandas as pd\n",
    "import numpy as np\n",
    "import matplotlib.pyplot as plt\n",
    "import seaborn as sns"
   ]
  },
  {
   "cell_type": "markdown",
   "id": "f63a727f",
   "metadata": {},
   "source": [
    "4. Using the pandas read_csv() method, read the GDP dataset into your notebook as a DataFrame called gdp_df. Take a look at the first few and last few rows to familiarize yourself with what is contained in this dataset."
   ]
  },
  {
   "cell_type": "code",
   "execution_count": null,
   "id": "74a0eeda",
   "metadata": {},
   "outputs": [],
   "source": [
    "gdp_df = pd.read_csv(\"../data/gdp_percapita.csv\")"
   ]
  },
  {
   "cell_type": "code",
   "execution_count": null,
   "id": "e2d382a5",
   "metadata": {
    "scrolled": true
   },
   "outputs": [],
   "source": [
    "print(gdp_df.head(5), \"\\n\", gdp_df.tail(5))"
   ]
  },
  {
   "cell_type": "markdown",
   "id": "6a32a9d7",
   "metadata": {},
   "source": [
    "5.How many rows and columns are in gdp_df? What are the data types of each column?"
   ]
  },
  {
   "cell_type": "code",
   "execution_count": null,
   "id": "06149b82",
   "metadata": {},
   "outputs": [],
   "source": [
    "print(\"Number of Rows: \", len(gdp_df.axes[0]), \"\\nNumber of Columns: \", len(gdp_df.axes[1]), \"\\n\", gdp_df.dtypes)"
   ]
  },
  {
   "cell_type": "markdown",
   "id": "5dc28ffc",
   "metadata": {},
   "source": [
    "6. Drop the Value Footnotes column and rename the remaining three to 'Country', 'Year', and 'GDP_Per_Capita'."
   ]
  },
  {
   "cell_type": "code",
   "execution_count": null,
   "id": "e925184c",
   "metadata": {},
   "outputs": [],
   "source": [
    "gdp_df = gdp_df.drop(columns = ['Value Footnotes'])"
   ]
  },
  {
   "cell_type": "code",
   "execution_count": null,
   "id": "28d51314",
   "metadata": {},
   "outputs": [],
   "source": [
    "gdp_df = gdp_df.rename(columns={\"Country or Area\": \"Country\", \"Year\": \"Year\", \"Value\": \"GDP_Per_Capita\"})"
   ]
  },
  {
   "cell_type": "markdown",
   "id": "3c5bdc29",
   "metadata": {},
   "source": [
    "7. How many countries have data for all years? Which countries are missing many years of data? Look at the number of observations per year. What do you notice?"
   ]
  },
  {
   "cell_type": "code",
   "execution_count": null,
   "id": "4967415f",
   "metadata": {},
   "outputs": [],
   "source": [
    "y = len(pd.unique(gdp_df['Year'])) #This is how many years there are.\n",
    "\n",
    "cnty = gdp_df['Country'].value_counts() #This will make a new df with the count of each country\n",
    "\n",
    "count = 0 #This for loop goes through the new df and sees if a countries count equal how many years there were\n",
    "for i in cnty:\n",
    "    if i == y:\n",
    "        count = count + 1\n",
    "    else: count = count + 0\n",
    "print(count, \"countries have data every year\\n\")\n",
    "\n",
    "gdp_df['Country'].value_counts().tail(40)"
   ]
  },
  {
   "cell_type": "markdown",
   "id": "12efb9e2",
   "metadata": {},
   "source": [
    "34 countries were created after 1990, 2 countries are not in the UN, this means 11 countries either left or cease to exist"
   ]
  },
  {
   "cell_type": "markdown",
   "id": "d5773020",
   "metadata": {},
   "source": [
    "8. In this question, you're going to create some plots to show the distribution of GDP per capita for the year 2020. Go to the Python Graph Gallery (https://www.python-graph-gallery.com/) and look at the different types of plots under the Distribution section. Create a histogram, a density plot, a boxplot, and a violin plot."
   ]
  },
  {
   "cell_type": "code",
   "execution_count": null,
   "id": "d718d832",
   "metadata": {},
   "outputs": [],
   "source": [
    "##This df is a subset of the gdp_df where the year is 2020.\n",
    "grph_df = gdp_df[gdp_df[\"Year\"] == 2020]\n",
    "grph_df = grph_df.drop(columns = ['Year'])"
   ]
  },
  {
   "cell_type": "code",
   "execution_count": null,
   "id": "cbbe10e4",
   "metadata": {},
   "outputs": [],
   "source": [
    "##This is the histogram code\n",
    "grph_df.hist()\n",
    "plt.show"
   ]
  },
  {
   "cell_type": "code",
   "execution_count": null,
   "id": "0c18c807",
   "metadata": {},
   "outputs": [],
   "source": [
    "##This the density plot code\n",
    "sns.kdeplot(data=grph_df)"
   ]
  },
  {
   "cell_type": "code",
   "execution_count": null,
   "id": "af2b3feb",
   "metadata": {},
   "outputs": [],
   "source": [
    "##This is the boxplot code\n",
    "sns.boxplot(data=grph_df)"
   ]
  },
  {
   "cell_type": "code",
   "execution_count": null,
   "id": "f713de01",
   "metadata": {},
   "outputs": [],
   "source": [
    "##This is the violin plot code\n",
    "sns.violinplot(data=grph_df)"
   ]
  },
  {
   "cell_type": "markdown",
   "id": "0e3e0eb1",
   "metadata": {},
   "source": [
    "What do you notice when you look at these plots?\n",
    "-Most countries have a GDP Per Capita below 20k\n",
    "How do the plots compare and what information can you get out of one type that you can't necessarily get out of the others?\n",
    "-The box plot and violin plot shows median and quartiles"
   ]
  },
  {
   "cell_type": "markdown",
   "id": "cdadbe33",
   "metadata": {},
   "source": [
    "9. What was the median GDP per capita value in 2020?"
   ]
  },
  {
   "cell_type": "code",
   "execution_count": null,
   "id": "affc08d5",
   "metadata": {},
   "outputs": [],
   "source": [
    "##This will print the median GDP per capita in 2020\n",
    "print(\"$\", \"{0:,.2f}\".format(np.median(grph_df[\"GDP_Per_Capita\"]), 2), \"is the median GDP per capita\")"
   ]
  },
  {
   "cell_type": "code",
   "execution_count": null,
   "id": "e8cc07a2",
   "metadata": {},
   "outputs": [],
   "source": []
  }
 ],
 "metadata": {
  "kernelspec": {
   "display_name": "Python 3 (ipykernel)",
   "language": "python",
   "name": "python3"
  },
  "language_info": {
   "codemirror_mode": {
    "name": "ipython",
    "version": 3
   },
   "file_extension": ".py",
   "mimetype": "text/x-python",
   "name": "python",
   "nbconvert_exporter": "python",
   "pygments_lexer": "ipython3",
   "version": "3.11.5"
  }
 },
 "nbformat": 4,
 "nbformat_minor": 5
}
